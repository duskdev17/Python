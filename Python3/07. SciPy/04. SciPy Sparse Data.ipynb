{
 "cells": [
  {
   "cell_type": "code",
   "execution_count": 8,
   "id": "10c4b775",
   "metadata": {},
   "outputs": [
    {
     "name": "stdout",
     "output_type": "stream",
     "text": [
      "[0 0 3 4 0 6 0 2 9 0 0]\n",
      "\n",
      "Sparse Matrix: \n",
      "   (0, 2)\t3\n",
      "  (0, 3)\t4\n",
      "  (0, 5)\t6\n",
      "  (0, 7)\t2\n",
      "  (0, 8)\t9\n"
     ]
    }
   ],
   "source": [
    "import numpy as np\n",
    "from scipy.sparse import csr_matrix\n",
    "\n",
    "arr = np.array([0,0,3,4,0,6,0,2,9,0,0])\n",
    "\n",
    "print(arr)\n",
    "print(\"\\nSparse Matrix: \\n\", csr_matrix(arr))"
   ]
  },
  {
   "cell_type": "code",
   "execution_count": 19,
   "id": "e15a098e",
   "metadata": {},
   "outputs": [
    {
     "name": "stdout",
     "output_type": "stream",
     "text": [
      "  (0, 0)\t1\n",
      "  (0, 2)\t4\n",
      "  (1, 0)\t3\n",
      "  (1, 1)\t9\n",
      "  (2, 2)\t4\n",
      "[1 4 3 9 4]\n",
      "5\n"
     ]
    }
   ],
   "source": [
    "import numpy\n",
    "from scipy.sparse import csr_matrix\n",
    "\n",
    "arr = np.array([[1,0,4],[3,9,0],[0,0,4]])\n",
    "\n",
    "print(csr_matrix(arr))\n",
    "print(csr_matrix(arr).data)\n",
    "print(csr_matrix(arr).count_nonzero())"
   ]
  },
  {
   "cell_type": "code",
   "execution_count": 20,
   "id": "6f9cf4ef",
   "metadata": {},
   "outputs": [
    {
     "name": "stdout",
     "output_type": "stream",
     "text": [
      "  (0, 0)\t1\n",
      "  (0, 2)\t4\n",
      "  (1, 0)\t3\n",
      "  (1, 1)\t9\n",
      "  (2, 2)\t4\n"
     ]
    }
   ],
   "source": [
    "import numpy\n",
    "from scipy.sparse import csr_matrix\n",
    "\n",
    "arr = np.array([[1,0,4],[3,9,0],[0,0,4]])\n",
    "\n",
    "mat = csr_matrix(arr)\n",
    "mat.eliminate_zeros()\n",
    "\n",
    "print(mat)"
   ]
  },
  {
   "cell_type": "code",
   "execution_count": 21,
   "id": "3a261483",
   "metadata": {},
   "outputs": [
    {
     "name": "stdout",
     "output_type": "stream",
     "text": [
      "  (0, 0)\t1\n",
      "  (0, 2)\t4\n",
      "  (1, 0)\t3\n",
      "  (1, 1)\t9\n",
      "  (2, 2)\t4\n"
     ]
    }
   ],
   "source": [
    "import numpy\n",
    "from scipy.sparse import csr_matrix\n",
    "\n",
    "arr = np.array([[1,0,4],[3,9,0],[0,0,4]])\n",
    "\n",
    "mat = csr_matrix(arr)\n",
    "mat.sum_duplicates()\n",
    "\n",
    "print(mat)"
   ]
  },
  {
   "cell_type": "code",
   "execution_count": 23,
   "id": "9f63fd0e",
   "metadata": {},
   "outputs": [
    {
     "name": "stdout",
     "output_type": "stream",
     "text": [
      "  (2, 0)\t1\n",
      "  (1, 2)\t4\n",
      "  (2, 2)\t2\n"
     ]
    }
   ],
   "source": [
    "import numpy as np\n",
    "from scipy.sparse import csr_matrix\n",
    "\n",
    "arr = np.array([[0, 0, 0], [0, 0, 4], [1, 0, 2]])\n",
    "\n",
    "newarr = csr_matrix(arr).tocsc()\n",
    "\n",
    "print(newarr)"
   ]
  },
  {
   "cell_type": "code",
   "execution_count": null,
   "id": "cd9edcb5",
   "metadata": {},
   "outputs": [],
   "source": []
  }
 ],
 "metadata": {
  "kernelspec": {
   "display_name": "Python 3 (ipykernel)",
   "language": "python",
   "name": "python3"
  },
  "language_info": {
   "codemirror_mode": {
    "name": "ipython",
    "version": 3
   },
   "file_extension": ".py",
   "mimetype": "text/x-python",
   "name": "python",
   "nbconvert_exporter": "python",
   "pygments_lexer": "ipython3",
   "version": "3.9.9"
  }
 },
 "nbformat": 4,
 "nbformat_minor": 5
}
