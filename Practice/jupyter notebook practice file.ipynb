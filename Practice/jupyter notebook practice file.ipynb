{
 "cells": [
  {
   "cell_type": "code",
   "execution_count": 2,
   "id": "0ba32ec0",
   "metadata": {},
   "outputs": [
    {
     "name": "stdout",
     "output_type": "stream",
     "text": [
      "{1: 'hello', 2: 'world'}\n",
      "world\n"
     ]
    }
   ],
   "source": [
    "dict = {1 : \"hello\", 2 : \"world\"}\n",
    "\n",
    "print(dict)\n",
    "print(dict[2])"
   ]
  },
  {
   "cell_type": "code",
   "execution_count": 2,
   "id": "d569a184",
   "metadata": {},
   "outputs": [
    {
     "ename": "TypeError",
     "evalue": "not all arguments converted during string formatting",
     "output_type": "error",
     "traceback": [
      "\u001b[1;31m---------------------------------------------------------------------------\u001b[0m",
      "\u001b[1;31mTypeError\u001b[0m                                 Traceback (most recent call last)",
      "\u001b[1;32m~\\AppData\\Local\\Temp/ipykernel_11200/427713271.py\u001b[0m in \u001b[0;36m<module>\u001b[1;34m\u001b[0m\n\u001b[0;32m      4\u001b[0m \u001b[1;33m\u001b[0m\u001b[0m\n\u001b[0;32m      5\u001b[0m \u001b[1;32mfor\u001b[0m \u001b[0mi\u001b[0m \u001b[1;32min\u001b[0m \u001b[0mrange\u001b[0m\u001b[1;33m(\u001b[0m\u001b[1;36m3\u001b[0m\u001b[1;33m)\u001b[0m\u001b[1;33m:\u001b[0m\u001b[1;33m\u001b[0m\u001b[1;33m\u001b[0m\u001b[0m\n\u001b[1;32m----> 6\u001b[1;33m     \u001b[0ma\u001b[0m\u001b[1;33m,\u001b[0m \u001b[0mb\u001b[0m \u001b[1;33m=\u001b[0m \u001b[0minput\u001b[0m\u001b[1;33m(\u001b[0m\u001b[1;34m\"Input: \"\u001b[0m \u001b[1;33m%\u001b[0m \u001b[1;33m(\u001b[0m\u001b[0mi\u001b[0m\u001b[1;33m+\u001b[0m\u001b[1;36m1\u001b[0m\u001b[1;33m)\u001b[0m\u001b[1;33m)\u001b[0m\u001b[1;33m.\u001b[0m\u001b[0msplit\u001b[0m\u001b[1;33m(\u001b[0m\u001b[1;33m)\u001b[0m\u001b[1;33m\u001b[0m\u001b[1;33m\u001b[0m\u001b[0m\n\u001b[0m\u001b[0;32m      7\u001b[0m     \u001b[0md\u001b[0m\u001b[1;33m[\u001b[0m\u001b[0ma\u001b[0m\u001b[1;33m]\u001b[0m\u001b[1;33m.\u001b[0m\u001b[0mappend\u001b[0m\u001b[1;33m(\u001b[0m\u001b[0ma\u001b[0m\u001b[1;33m)\u001b[0m\u001b[1;33m\u001b[0m\u001b[1;33m\u001b[0m\u001b[0m\n\u001b[0;32m      8\u001b[0m \u001b[1;33m\u001b[0m\u001b[0m\n",
      "\u001b[1;31mTypeError\u001b[0m: not all arguments converted during string formatting"
     ]
    }
   ],
   "source": [
    "from collections import defaultdict\n",
    "\n",
    "d = defaultdict(list)\n",
    "\n",
    "for i in range(3):\n",
    "    a, b = input(\"Input: \" % (i+1)).split()\n",
    "    d[a].append(a)\n",
    "\n",
    "print(\"Dictionaries as values as list:\")\n",
    "print(d)"
   ]
  },
  {
   "cell_type": "code",
   "execution_count": 10,
   "id": "5b30ff1e",
   "metadata": {},
   "outputs": [
    {
     "name": "stdout",
     "output_type": "stream",
     "text": [
      "3\n"
     ]
    }
   ],
   "source": [
    "a = [354], [3], [56]\n",
    "print(len(a))"
   ]
  },
  {
   "cell_type": "code",
   "execution_count": 1,
   "id": "1387ebb6",
   "metadata": {},
   "outputs": [
    {
     "name": "stdout",
     "output_type": "stream",
     "text": [
      "Enter nodes' name: a b c d\n",
      "['a', 'b', 'c', 'd']\n"
     ]
    }
   ],
   "source": [
    "nodes = input(\"Enter nodes' name: \").split()\n",
    "\n",
    "print(nodes)"
   ]
  },
  {
   "cell_type": "code",
   "execution_count": 1,
   "id": "01656286",
   "metadata": {},
   "outputs": [
    {
     "name": "stdout",
     "output_type": "stream",
     "text": [
      "List inside a dict:  {'list': [1, 2, 3, 4]}\n",
      "{'name': 'anik', 'age': 12, 'time': 12.3}\n",
      "Name: anik\n",
      "apple\n",
      "banana\n"
     ]
    }
   ],
   "source": [
    "list = ['apple', 'banana']\n",
    "dict = {'name' : 'anik', 'age' : 12, 'time' : 12.30}\n",
    "list_inside_dict = {'list' : [1, 2, 3, 4]}\n",
    "\n",
    "print('List inside a dict: ', list_inside_dict)\n",
    "\n",
    "print(dict)\n",
    "print('Name:',dict['name'])\n",
    "\n",
    "for items in list:\n",
    "    print(items)"
   ]
  },
  {
   "cell_type": "code",
   "execution_count": 6,
   "id": "9f45d8bb",
   "metadata": {},
   "outputs": [
    {
     "name": "stdout",
     "output_type": "stream",
     "text": [
      "{'Pari', 'Na', 'Ami', 'Code'}\n"
     ]
    }
   ],
   "source": [
    "set = {'Ami', 'Code', 'Pari', 'Na'}\n",
    "\n",
    "print(set)"
   ]
  },
  {
   "cell_type": "code",
   "execution_count": 4,
   "id": "d327a783",
   "metadata": {},
   "outputs": [
    {
     "name": "stdout",
     "output_type": "stream",
     "text": [
      "{'apple', 'cherry', 'banana', 'berry'}\n"
     ]
    }
   ],
   "source": [
    "thisset = {\"apple\", \"banana\", \"cherry\", \"apple\", \"berry\"}\n",
    "\n",
    "print(thisset)"
   ]
  },
  {
   "cell_type": "code",
   "execution_count": 8,
   "id": "f5a7fd23",
   "metadata": {},
   "outputs": [
    {
     "name": "stdout",
     "output_type": "stream",
     "text": [
      "['Ami', 'Code', 'Pari', 'Na']\n"
     ]
    }
   ],
   "source": [
    "list =  ['Ami', 'Code', 'Pari', 'Na']\n",
    "print(list)"
   ]
  },
  {
   "cell_type": "code",
   "execution_count": 9,
   "id": "b91df86f",
   "metadata": {},
   "outputs": [
    {
     "name": "stdout",
     "output_type": "stream",
     "text": [
      "('Ami', 'Code', 'Pari', 'Na')\n"
     ]
    }
   ],
   "source": [
    "tuple = ('Ami', 'Code', 'Pari', 'Na')\n",
    "print(tuple)"
   ]
  },
  {
   "cell_type": "code",
   "execution_count": 10,
   "id": "8501a190",
   "metadata": {},
   "outputs": [
    {
     "name": "stdout",
     "output_type": "stream",
     "text": [
      "{'brand': 'Ford', 'model': 'Mustang', 'year': 1964}\n"
     ]
    }
   ],
   "source": [
    "thisdict = {\n",
    "  \"brand\": \"Ford\",\n",
    "  \"model\": \"Mustang\",\n",
    "  \"year\": 1964\n",
    "}\n",
    "print(thisdict)"
   ]
  },
  {
   "cell_type": "code",
   "execution_count": null,
   "id": "ccda0ed2",
   "metadata": {},
   "outputs": [],
   "source": []
  }
 ],
 "metadata": {
  "kernelspec": {
   "display_name": "Python 3 (ipykernel)",
   "language": "python",
   "name": "python3"
  },
  "language_info": {
   "codemirror_mode": {
    "name": "ipython",
    "version": 3
   },
   "file_extension": ".py",
   "mimetype": "text/x-python",
   "name": "python",
   "nbconvert_exporter": "python",
   "pygments_lexer": "ipython3",
   "version": "3.9.7"
  }
 },
 "nbformat": 4,
 "nbformat_minor": 5
}
